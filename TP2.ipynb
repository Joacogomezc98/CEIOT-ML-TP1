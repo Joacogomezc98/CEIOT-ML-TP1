{
 "cells": [
  {
   "cell_type": "code",
   "execution_count": 149,
   "metadata": {},
   "outputs": [
    {
     "name": "stdout",
     "output_type": "stream",
     "text": [
      "Rows: 142146, Columns: 25\n"
     ]
    }
   ],
   "source": [
    "import pandas as pd\n",
    "import matplotlib\n",
    "import matplotlib.pyplot as plt\n",
    "from sklearn.preprocessing import StandardScaler\n",
    "from sklearn.model_selection import train_test_split, GridSearchCV\n",
    "from sklearn.neighbors import KNeighborsClassifier\n",
    "from sklearn.metrics import recall_score, balanced_accuracy_score\n",
    "from sklearn.linear_model import LogisticRegression\n",
    "import pickle\n",
    "\n",
    "\n",
    "weather = pd.read_csv('./dataset/clean-dataset.csv')\n",
    "rows, columns = weather.shape\n",
    "print(f\"Rows: {rows}, Columns: {columns}\")"
   ]
  },
  {
   "cell_type": "markdown",
   "metadata": {},
   "source": [
    "### Conversion de variables"
   ]
  },
  {
   "cell_type": "code",
   "execution_count": 131,
   "metadata": {},
   "outputs": [
    {
     "data": {
      "text/html": [
       "<div>\n",
       "<style scoped>\n",
       "    .dataframe tbody tr th:only-of-type {\n",
       "        vertical-align: middle;\n",
       "    }\n",
       "\n",
       "    .dataframe tbody tr th {\n",
       "        vertical-align: top;\n",
       "    }\n",
       "\n",
       "    .dataframe thead th {\n",
       "        text-align: right;\n",
       "    }\n",
       "</style>\n",
       "<table border=\"1\" class=\"dataframe\">\n",
       "  <thead>\n",
       "    <tr style=\"text-align: right;\">\n",
       "      <th></th>\n",
       "      <th>Date</th>\n",
       "      <th>Location</th>\n",
       "      <th>MinTemp</th>\n",
       "      <th>MaxTemp</th>\n",
       "      <th>Rainfall</th>\n",
       "      <th>Evaporation</th>\n",
       "      <th>Sunshine</th>\n",
       "      <th>WindGustDir</th>\n",
       "      <th>WindGustSpeed</th>\n",
       "      <th>WindDir9am</th>\n",
       "      <th>...</th>\n",
       "      <th>Pressure9am</th>\n",
       "      <th>Pressure3pm</th>\n",
       "      <th>Cloud9am</th>\n",
       "      <th>Cloud3pm</th>\n",
       "      <th>Temp9am</th>\n",
       "      <th>Temp3pm</th>\n",
       "      <th>RainToday</th>\n",
       "      <th>RainTomorrow</th>\n",
       "      <th>DailyTempRange</th>\n",
       "      <th>YearMonth</th>\n",
       "    </tr>\n",
       "  </thead>\n",
       "  <tbody>\n",
       "    <tr>\n",
       "      <th>0</th>\n",
       "      <td>2008-07-02</td>\n",
       "      <td>Adelaide</td>\n",
       "      <td>12.7</td>\n",
       "      <td>15.8</td>\n",
       "      <td>0.8</td>\n",
       "      <td>1.4</td>\n",
       "      <td>7.8</td>\n",
       "      <td>SW</td>\n",
       "      <td>35.0</td>\n",
       "      <td>SSW</td>\n",
       "      <td>...</td>\n",
       "      <td>1022.4</td>\n",
       "      <td>1022.6</td>\n",
       "      <td>NaN</td>\n",
       "      <td>NaN</td>\n",
       "      <td>13.7</td>\n",
       "      <td>15.5</td>\n",
       "      <td>0.0</td>\n",
       "      <td>0.0</td>\n",
       "      <td>3.1</td>\n",
       "      <td>2008-07</td>\n",
       "    </tr>\n",
       "    <tr>\n",
       "      <th>1</th>\n",
       "      <td>2008-07-03</td>\n",
       "      <td>Adelaide</td>\n",
       "      <td>6.2</td>\n",
       "      <td>15.1</td>\n",
       "      <td>0.0</td>\n",
       "      <td>1.8</td>\n",
       "      <td>2.1</td>\n",
       "      <td>W</td>\n",
       "      <td>20.0</td>\n",
       "      <td>NNE</td>\n",
       "      <td>...</td>\n",
       "      <td>1027.8</td>\n",
       "      <td>1026.5</td>\n",
       "      <td>NaN</td>\n",
       "      <td>NaN</td>\n",
       "      <td>9.3</td>\n",
       "      <td>13.9</td>\n",
       "      <td>0.0</td>\n",
       "      <td>0.0</td>\n",
       "      <td>8.9</td>\n",
       "      <td>2008-07</td>\n",
       "    </tr>\n",
       "    <tr>\n",
       "      <th>2</th>\n",
       "      <td>2008-07-04</td>\n",
       "      <td>Adelaide</td>\n",
       "      <td>5.3</td>\n",
       "      <td>15.9</td>\n",
       "      <td>0.0</td>\n",
       "      <td>1.4</td>\n",
       "      <td>8.0</td>\n",
       "      <td>NNE</td>\n",
       "      <td>30.0</td>\n",
       "      <td>NNE</td>\n",
       "      <td>...</td>\n",
       "      <td>1028.7</td>\n",
       "      <td>1025.6</td>\n",
       "      <td>NaN</td>\n",
       "      <td>NaN</td>\n",
       "      <td>10.2</td>\n",
       "      <td>15.3</td>\n",
       "      <td>0.0</td>\n",
       "      <td>0.0</td>\n",
       "      <td>10.6</td>\n",
       "      <td>2008-07</td>\n",
       "    </tr>\n",
       "    <tr>\n",
       "      <th>3</th>\n",
       "      <td>2008-07-06</td>\n",
       "      <td>Adelaide</td>\n",
       "      <td>11.3</td>\n",
       "      <td>15.7</td>\n",
       "      <td>0.0</td>\n",
       "      <td>1.4</td>\n",
       "      <td>1.5</td>\n",
       "      <td>NNW</td>\n",
       "      <td>52.0</td>\n",
       "      <td>NNE</td>\n",
       "      <td>...</td>\n",
       "      <td>1019.5</td>\n",
       "      <td>1016.2</td>\n",
       "      <td>NaN</td>\n",
       "      <td>NaN</td>\n",
       "      <td>13.0</td>\n",
       "      <td>14.4</td>\n",
       "      <td>0.0</td>\n",
       "      <td>1.0</td>\n",
       "      <td>4.4</td>\n",
       "      <td>2008-07</td>\n",
       "    </tr>\n",
       "    <tr>\n",
       "      <th>4</th>\n",
       "      <td>2008-07-07</td>\n",
       "      <td>Adelaide</td>\n",
       "      <td>7.6</td>\n",
       "      <td>11.2</td>\n",
       "      <td>16.2</td>\n",
       "      <td>4.6</td>\n",
       "      <td>1.1</td>\n",
       "      <td>WSW</td>\n",
       "      <td>46.0</td>\n",
       "      <td>WNW</td>\n",
       "      <td>...</td>\n",
       "      <td>1015.9</td>\n",
       "      <td>1017.9</td>\n",
       "      <td>NaN</td>\n",
       "      <td>NaN</td>\n",
       "      <td>9.8</td>\n",
       "      <td>9.3</td>\n",
       "      <td>1.0</td>\n",
       "      <td>1.0</td>\n",
       "      <td>3.6</td>\n",
       "      <td>2008-07</td>\n",
       "    </tr>\n",
       "  </tbody>\n",
       "</table>\n",
       "<p>5 rows × 25 columns</p>\n",
       "</div>"
      ],
      "text/plain": [
       "         Date  Location  MinTemp  MaxTemp  Rainfall  Evaporation  Sunshine  \\\n",
       "0  2008-07-02  Adelaide     12.7     15.8       0.8          1.4       7.8   \n",
       "1  2008-07-03  Adelaide      6.2     15.1       0.0          1.8       2.1   \n",
       "2  2008-07-04  Adelaide      5.3     15.9       0.0          1.4       8.0   \n",
       "3  2008-07-06  Adelaide     11.3     15.7       0.0          1.4       1.5   \n",
       "4  2008-07-07  Adelaide      7.6     11.2      16.2          4.6       1.1   \n",
       "\n",
       "  WindGustDir  WindGustSpeed WindDir9am  ... Pressure9am  Pressure3pm  \\\n",
       "0          SW           35.0        SSW  ...      1022.4       1022.6   \n",
       "1           W           20.0        NNE  ...      1027.8       1026.5   \n",
       "2         NNE           30.0        NNE  ...      1028.7       1025.6   \n",
       "3         NNW           52.0        NNE  ...      1019.5       1016.2   \n",
       "4         WSW           46.0        WNW  ...      1015.9       1017.9   \n",
       "\n",
       "   Cloud9am  Cloud3pm  Temp9am  Temp3pm  RainToday  RainTomorrow  \\\n",
       "0       NaN       NaN     13.7     15.5        0.0           0.0   \n",
       "1       NaN       NaN      9.3     13.9        0.0           0.0   \n",
       "2       NaN       NaN     10.2     15.3        0.0           0.0   \n",
       "3       NaN       NaN     13.0     14.4        0.0           1.0   \n",
       "4       NaN       NaN      9.8      9.3        1.0           1.0   \n",
       "\n",
       "   DailyTempRange  YearMonth  \n",
       "0             3.1    2008-07  \n",
       "1             8.9    2008-07  \n",
       "2            10.6    2008-07  \n",
       "3             4.4    2008-07  \n",
       "4             3.6    2008-07  \n",
       "\n",
       "[5 rows x 25 columns]"
      ]
     },
     "execution_count": 131,
     "metadata": {},
     "output_type": "execute_result"
    }
   ],
   "source": [
    "weather.head(5)"
   ]
  },
  {
   "cell_type": "code",
   "execution_count": 132,
   "metadata": {},
   "outputs": [
    {
     "name": "stdout",
     "output_type": "stream",
     "text": [
      "<class 'pandas.core.frame.DataFrame'>\n",
      "RangeIndex: 142146 entries, 0 to 142145\n",
      "Data columns (total 25 columns):\n",
      " #   Column          Non-Null Count   Dtype  \n",
      "---  ------          --------------   -----  \n",
      " 0   Date            142146 non-null  object \n",
      " 1   Location        142146 non-null  object \n",
      " 2   MinTemp         142146 non-null  float64\n",
      " 3   MaxTemp         142146 non-null  float64\n",
      " 4   Rainfall        142146 non-null  float64\n",
      " 5   Evaporation     142146 non-null  float64\n",
      " 6   Sunshine        142146 non-null  float64\n",
      " 7   WindGustDir     132820 non-null  object \n",
      " 8   WindGustSpeed   142146 non-null  float64\n",
      " 9   WindDir9am      132135 non-null  object \n",
      " 10  WindDir3pm      138370 non-null  object \n",
      " 11  WindSpeed9am    142146 non-null  float64\n",
      " 12  WindSpeed3pm    142146 non-null  float64\n",
      " 13  Humidity9am     142146 non-null  float64\n",
      " 14  Humidity3pm     142146 non-null  float64\n",
      " 15  Pressure9am     142146 non-null  float64\n",
      " 16  Pressure3pm     142146 non-null  float64\n",
      " 17  Cloud9am        108123 non-null  float64\n",
      " 18  Cloud3pm        108123 non-null  float64\n",
      " 19  Temp9am         142146 non-null  float64\n",
      " 20  Temp3pm         142146 non-null  float64\n",
      " 21  RainToday       142146 non-null  float64\n",
      " 22  RainTomorrow    142146 non-null  float64\n",
      " 23  DailyTempRange  142146 non-null  float64\n",
      " 24  YearMonth       142146 non-null  object \n",
      "dtypes: float64(19), object(6)\n",
      "memory usage: 27.1+ MB\n"
     ]
    }
   ],
   "source": [
    "weather.info()\n"
   ]
  },
  {
   "cell_type": "markdown",
   "metadata": {},
   "source": [
    "#### Conversion de Date"
   ]
  },
  {
   "cell_type": "code",
   "execution_count": 133,
   "metadata": {},
   "outputs": [],
   "source": [
    "# weather[\"Date\"] = pd.to_datetime(weather[\"Date\"])"
   ]
  },
  {
   "cell_type": "markdown",
   "metadata": {},
   "source": [
    "#### Conversión de RainToday y RainTomorrow a Boolean"
   ]
  },
  {
   "cell_type": "code",
   "execution_count": 134,
   "metadata": {},
   "outputs": [],
   "source": [
    "weather[\"RainToday\"] = weather[\"RainToday\"].apply(lambda x: True if x == 1.0 else False)\n",
    "weather[\"RainTomorrow\"] = weather[\"RainTomorrow\"].apply(lambda x: True if x == 1.0 else False)\n"
   ]
  },
  {
   "cell_type": "markdown",
   "metadata": {},
   "source": [
    "#### Conversion de variables categoricas"
   ]
  },
  {
   "cell_type": "code",
   "execution_count": 135,
   "metadata": {},
   "outputs": [],
   "source": [
    "variables_categoricas = [\"Location\", \"WindGustDir\", \"WindDir3pm\", \"WindDir9am\"]\n",
    "weather_with_dummies = pd.get_dummies(weather, columns=variables_categoricas, drop_first=True)"
   ]
  },
  {
   "cell_type": "markdown",
   "metadata": {},
   "source": [
    "### Resultados post conversion de variables"
   ]
  },
  {
   "cell_type": "code",
   "execution_count": 136,
   "metadata": {},
   "outputs": [
    {
     "data": {
      "text/html": [
       "<div>\n",
       "<style scoped>\n",
       "    .dataframe tbody tr th:only-of-type {\n",
       "        vertical-align: middle;\n",
       "    }\n",
       "\n",
       "    .dataframe tbody tr th {\n",
       "        vertical-align: top;\n",
       "    }\n",
       "\n",
       "    .dataframe thead th {\n",
       "        text-align: right;\n",
       "    }\n",
       "</style>\n",
       "<table border=\"1\" class=\"dataframe\">\n",
       "  <thead>\n",
       "    <tr style=\"text-align: right;\">\n",
       "      <th></th>\n",
       "      <th>Date</th>\n",
       "      <th>MinTemp</th>\n",
       "      <th>MaxTemp</th>\n",
       "      <th>Rainfall</th>\n",
       "      <th>Evaporation</th>\n",
       "      <th>Sunshine</th>\n",
       "      <th>WindGustSpeed</th>\n",
       "      <th>WindSpeed9am</th>\n",
       "      <th>WindSpeed3pm</th>\n",
       "      <th>Humidity9am</th>\n",
       "      <th>...</th>\n",
       "      <th>WindDir9am_NNW</th>\n",
       "      <th>WindDir9am_NW</th>\n",
       "      <th>WindDir9am_S</th>\n",
       "      <th>WindDir9am_SE</th>\n",
       "      <th>WindDir9am_SSE</th>\n",
       "      <th>WindDir9am_SSW</th>\n",
       "      <th>WindDir9am_SW</th>\n",
       "      <th>WindDir9am_W</th>\n",
       "      <th>WindDir9am_WNW</th>\n",
       "      <th>WindDir9am_WSW</th>\n",
       "    </tr>\n",
       "  </thead>\n",
       "  <tbody>\n",
       "    <tr>\n",
       "      <th>0</th>\n",
       "      <td>2008-07-02</td>\n",
       "      <td>12.7</td>\n",
       "      <td>15.8</td>\n",
       "      <td>0.8</td>\n",
       "      <td>1.4</td>\n",
       "      <td>7.8</td>\n",
       "      <td>35.0</td>\n",
       "      <td>13.0</td>\n",
       "      <td>15.0</td>\n",
       "      <td>75.0</td>\n",
       "      <td>...</td>\n",
       "      <td>False</td>\n",
       "      <td>False</td>\n",
       "      <td>False</td>\n",
       "      <td>False</td>\n",
       "      <td>False</td>\n",
       "      <td>True</td>\n",
       "      <td>False</td>\n",
       "      <td>False</td>\n",
       "      <td>False</td>\n",
       "      <td>False</td>\n",
       "    </tr>\n",
       "    <tr>\n",
       "      <th>1</th>\n",
       "      <td>2008-07-03</td>\n",
       "      <td>6.2</td>\n",
       "      <td>15.1</td>\n",
       "      <td>0.0</td>\n",
       "      <td>1.8</td>\n",
       "      <td>2.1</td>\n",
       "      <td>20.0</td>\n",
       "      <td>2.0</td>\n",
       "      <td>11.0</td>\n",
       "      <td>81.0</td>\n",
       "      <td>...</td>\n",
       "      <td>False</td>\n",
       "      <td>False</td>\n",
       "      <td>False</td>\n",
       "      <td>False</td>\n",
       "      <td>False</td>\n",
       "      <td>False</td>\n",
       "      <td>False</td>\n",
       "      <td>False</td>\n",
       "      <td>False</td>\n",
       "      <td>False</td>\n",
       "    </tr>\n",
       "    <tr>\n",
       "      <th>2</th>\n",
       "      <td>2008-07-04</td>\n",
       "      <td>5.3</td>\n",
       "      <td>15.9</td>\n",
       "      <td>0.0</td>\n",
       "      <td>1.4</td>\n",
       "      <td>8.0</td>\n",
       "      <td>30.0</td>\n",
       "      <td>6.0</td>\n",
       "      <td>13.0</td>\n",
       "      <td>71.0</td>\n",
       "      <td>...</td>\n",
       "      <td>False</td>\n",
       "      <td>False</td>\n",
       "      <td>False</td>\n",
       "      <td>False</td>\n",
       "      <td>False</td>\n",
       "      <td>False</td>\n",
       "      <td>False</td>\n",
       "      <td>False</td>\n",
       "      <td>False</td>\n",
       "      <td>False</td>\n",
       "    </tr>\n",
       "    <tr>\n",
       "      <th>3</th>\n",
       "      <td>2008-07-06</td>\n",
       "      <td>11.3</td>\n",
       "      <td>15.7</td>\n",
       "      <td>0.0</td>\n",
       "      <td>1.4</td>\n",
       "      <td>1.5</td>\n",
       "      <td>52.0</td>\n",
       "      <td>15.0</td>\n",
       "      <td>22.0</td>\n",
       "      <td>62.0</td>\n",
       "      <td>...</td>\n",
       "      <td>False</td>\n",
       "      <td>False</td>\n",
       "      <td>False</td>\n",
       "      <td>False</td>\n",
       "      <td>False</td>\n",
       "      <td>False</td>\n",
       "      <td>False</td>\n",
       "      <td>False</td>\n",
       "      <td>False</td>\n",
       "      <td>False</td>\n",
       "    </tr>\n",
       "    <tr>\n",
       "      <th>4</th>\n",
       "      <td>2008-07-07</td>\n",
       "      <td>7.6</td>\n",
       "      <td>11.2</td>\n",
       "      <td>16.2</td>\n",
       "      <td>4.6</td>\n",
       "      <td>1.1</td>\n",
       "      <td>46.0</td>\n",
       "      <td>17.0</td>\n",
       "      <td>13.0</td>\n",
       "      <td>83.0</td>\n",
       "      <td>...</td>\n",
       "      <td>False</td>\n",
       "      <td>False</td>\n",
       "      <td>False</td>\n",
       "      <td>False</td>\n",
       "      <td>False</td>\n",
       "      <td>False</td>\n",
       "      <td>False</td>\n",
       "      <td>False</td>\n",
       "      <td>True</td>\n",
       "      <td>False</td>\n",
       "    </tr>\n",
       "  </tbody>\n",
       "</table>\n",
       "<p>5 rows × 114 columns</p>\n",
       "</div>"
      ],
      "text/plain": [
       "         Date  MinTemp  MaxTemp  Rainfall  Evaporation  Sunshine  \\\n",
       "0  2008-07-02     12.7     15.8       0.8          1.4       7.8   \n",
       "1  2008-07-03      6.2     15.1       0.0          1.8       2.1   \n",
       "2  2008-07-04      5.3     15.9       0.0          1.4       8.0   \n",
       "3  2008-07-06     11.3     15.7       0.0          1.4       1.5   \n",
       "4  2008-07-07      7.6     11.2      16.2          4.6       1.1   \n",
       "\n",
       "   WindGustSpeed  WindSpeed9am  WindSpeed3pm  Humidity9am  ...  \\\n",
       "0           35.0          13.0          15.0         75.0  ...   \n",
       "1           20.0           2.0          11.0         81.0  ...   \n",
       "2           30.0           6.0          13.0         71.0  ...   \n",
       "3           52.0          15.0          22.0         62.0  ...   \n",
       "4           46.0          17.0          13.0         83.0  ...   \n",
       "\n",
       "   WindDir9am_NNW  WindDir9am_NW  WindDir9am_S  WindDir9am_SE  WindDir9am_SSE  \\\n",
       "0           False          False         False          False           False   \n",
       "1           False          False         False          False           False   \n",
       "2           False          False         False          False           False   \n",
       "3           False          False         False          False           False   \n",
       "4           False          False         False          False           False   \n",
       "\n",
       "   WindDir9am_SSW  WindDir9am_SW  WindDir9am_W  WindDir9am_WNW  WindDir9am_WSW  \n",
       "0            True          False         False           False           False  \n",
       "1           False          False         False           False           False  \n",
       "2           False          False         False           False           False  \n",
       "3           False          False         False           False           False  \n",
       "4           False          False         False            True           False  \n",
       "\n",
       "[5 rows x 114 columns]"
      ]
     },
     "execution_count": 136,
     "metadata": {},
     "output_type": "execute_result"
    }
   ],
   "source": [
    "weather_with_dummies.head(5)"
   ]
  },
  {
   "cell_type": "code",
   "execution_count": 137,
   "metadata": {},
   "outputs": [
    {
     "data": {
      "text/plain": [
       "(142146, 25)"
      ]
     },
     "execution_count": 137,
     "metadata": {},
     "output_type": "execute_result"
    }
   ],
   "source": [
    "weather.shape"
   ]
  },
  {
   "cell_type": "code",
   "execution_count": 138,
   "metadata": {},
   "outputs": [
    {
     "data": {
      "text/plain": [
       "(142146, 114)"
      ]
     },
     "execution_count": 138,
     "metadata": {},
     "output_type": "execute_result"
    }
   ],
   "source": [
    "weather_with_dummies.shape"
   ]
  },
  {
   "cell_type": "code",
   "execution_count": 139,
   "metadata": {},
   "outputs": [
    {
     "name": "stdout",
     "output_type": "stream",
     "text": [
      "<class 'pandas.core.frame.DataFrame'>\n",
      "RangeIndex: 142146 entries, 0 to 142145\n",
      "Columns: 114 entries, Date to WindDir9am_WSW\n",
      "dtypes: bool(95), float64(17), object(2)\n",
      "memory usage: 33.5+ MB\n"
     ]
    }
   ],
   "source": [
    "weather_with_dummies.info()"
   ]
  },
  {
   "cell_type": "markdown",
   "metadata": {},
   "source": [
    "### Separacion de Dataset"
   ]
  },
  {
   "cell_type": "code",
   "execution_count": 140,
   "metadata": {},
   "outputs": [],
   "source": [
    "weather_with_dummies.drop(columns=\"Date\", inplace=True)\n",
    "weather_with_dummies.drop(columns=\"YearMonth\", inplace=True)\n",
    "\n",
    "X = weather_with_dummies.drop(columns=\"RainTomorrow\")\n",
    "y = weather_with_dummies[\"RainTomorrow\"]\n",
    "\n",
    "X.fillna(X.mean(), inplace=True)\n",
    "\n",
    "X_train, X_test, y_train, y_test = train_test_split(X, y, test_size=0.3, random_state=42)"
   ]
  },
  {
   "cell_type": "markdown",
   "metadata": {},
   "source": [
    "#### Escalado de variables numericas"
   ]
  },
  {
   "cell_type": "code",
   "execution_count": 141,
   "metadata": {},
   "outputs": [],
   "source": [
    "scaler = StandardScaler()\n",
    "X_train_scaled = scaler.fit_transform(X_train)\n",
    "\n",
    "# Aplicar la misma transformación al dataset de prueba\n",
    "X_test_scaled = scaler.transform(X_test)"
   ]
  },
  {
   "cell_type": "markdown",
   "metadata": {},
   "source": [
    "### Modelado y Evaluacion"
   ]
  },
  {
   "cell_type": "markdown",
   "metadata": {},
   "source": [
    "#### Determine dos métricas de evaluación que considere importante medir para este problema. Justifique su elección."
   ]
  },
  {
   "cell_type": "markdown",
   "metadata": {},
   "source": [
    "Para predecir si va a llover mañana, las métricas de evaluación más relevantes podrían ser las siguientes:\n",
    "\n",
    " 1. *⁠Exactitud Balanceada*\n",
    "\n",
    "    En este caso de uso es interesante evaluar los modelos según su sensibilidad (tasa de verdaderos positivos) y según su especificidad (tasa de verdaderos negativos). Sin embargo, estas metricas traen problemas en los casos donde existe un desbalance de clases. En el presente dataset existe tal desbalance ya que, para ciertas ciudades, son muchos mas los dias en los que no llueve que los dias donde si se da este fenómeno meteorológico. Dicho esto, elejimos calcular la \"Exactitud Balanceada\"\n",
    "    \n",
    " 2. *Recuperación*\n",
    "\n",
    "    Seleccionamos \"Recuperación\" como segunda metrica relevante para medir los modelos ya que nos interesa minimizar la cantidad de Falsos Negativos. Es decir, preferimos que el modelo indique que Si va a llover aunque en realidad despues No llueva y no al revés."
   ]
  },
  {
   "cell_type": "markdown",
   "metadata": {},
   "source": [
    "### Implemente un modelo de base usando como predicción que determine que llueve mañana si hoy llueve, y si hoy no llueve mañana no va a llover."
   ]
  },
  {
   "cell_type": "code",
   "execution_count": 146,
   "metadata": {},
   "outputs": [
    {
     "name": "stdout",
     "output_type": "stream",
     "text": [
      "Base Model - Recall: 0.46675783715548075\n",
      "Base Model - Balanced Accuracy: 0.65580936097016\n"
     ]
    }
   ],
   "source": [
    "#TODO: Chequera que este bien hacer esto con weather dummys\n",
    "\n",
    "# Aplicar la lógica de predicción: Si llueve hoy, predice que lloverá mañana\n",
    "\n",
    "y_pred_test = X_test['RainToday']\n",
    "\n",
    "# Calcular el recall y la precisión balanceada para el conjunto de prueba\n",
    "recall_base_model = recall_score(y_test, y_pred_test, average='binary')\n",
    "balanced_accuracy_base_model = balanced_accuracy_score(y_test, y_pred_test)\n",
    "\n",
    "print(f\"Base Model - Recall: {recall_base_model}\")\n",
    "print(f\"Base Model - Balanced Accuracy: {balanced_accuracy_base_model}\")\n",
    "\n"
   ]
  },
  {
   "cell_type": "markdown",
   "metadata": {},
   "source": [
    "#### Implemente y entrene un modelo de k Nearest Neighbors (kNN) para predecir si va a llover mañana. Utilice la distancia euclidiana como medida de distancia entre vecinos. Ajuste el parámetro k utilizando técnicas como la validación cruzada (5 folds) para optimizar el rendimiento del modelo (utilice como función de optimización una de las métricas definidas en el punto anterior)."
   ]
  },
  {
   "cell_type": "code",
   "execution_count": 116,
   "metadata": {},
   "outputs": [
    {
     "name": "stdout",
     "output_type": "stream",
     "text": [
      "Mejor valor de k: 1\n"
     ]
    }
   ],
   "source": [
    "\n",
    "knn = KNeighborsClassifier(metric='euclidean')\n",
    "\n",
    "# Definir los parámetros de la búsqueda en grilla\n",
    "param_grid = {'n_neighbors': list(range(1, 9))}  # Probamos k entre 1 y 9\n",
    "\n",
    "\n",
    "# Configurar la validación cruzada con GridSearchCV\n",
    "grid_search = GridSearchCV(knn, param_grid, cv=5, scoring='balanced_accuracy')# After fitting GridSearchCV\n",
    "grid_search.fit(X_train_scaled, y_train)\n",
    "\n",
    "# Seleccionar el mejor modelo\n",
    "best_model = grid_search.best_estimator_\n",
    "\n",
    "# Hacer predicciones con el mejor modelo\n",
    "predictions = best_model.predict(X_train_scaled)\n",
    "grid_search.fit(X_train_scaled, y_train)\n",
    "\n",
    "# Obtener los mejores parámetros\n",
    "best_k = grid_search.best_params_['n_neighbors']\n",
    "\n",
    "print(f\"Mejor valor de k: {best_k}\")\n",
    "\n"
   ]
  },
  {
   "cell_type": "code",
   "execution_count": 121,
   "metadata": {},
   "outputs": [
    {
     "name": "stdout",
     "output_type": "stream",
     "text": [
      "Recall (Recovery): 0.42278560908899643\n",
      "Balanced Accuracy: 0.6459392466955032\n"
     ]
    }
   ],
   "source": [
    "best_model = grid_search.best_estimator_\n",
    "\n",
    "predictions_knn = best_model.predict(X_test_scaled)\n",
    "\n",
    "recall_knn = recall_score(y_test, predictions_knn)\n",
    "print(f\"Recall (Recovery): {recall_knn}\")\n",
    "\n",
    "balanced_accuracy_knn = balanced_accuracy_score(y_test, predictions_knn)\n",
    "print(f\"Balanced Accuracy: {balanced_accuracy_knn}\")\n"
   ]
  },
  {
   "cell_type": "markdown",
   "metadata": {},
   "source": [
    "### Implemente y entrene un modelo de regresión logística para predecir la misma variable objetivo."
   ]
  },
  {
   "cell_type": "code",
   "execution_count": 119,
   "metadata": {},
   "outputs": [
    {
     "name": "stdout",
     "output_type": "stream",
     "text": [
      "Recall: 0.5048390490216705\n",
      "Balanced Accuracy: 0.7245964814786667\n"
     ]
    }
   ],
   "source": [
    "model_logistic = LogisticRegression()\n",
    "model_logistic.fit(X_train_scaled, y_train)\n",
    "\n",
    "predictions_logistic = model_logistic.predict(X_test_scaled)\n",
    "\n",
    "# Calcular el recall\n",
    "recall_logistic = recall_score(y_test, predictions_logistic, average='binary')\n",
    "\n",
    "# Calcular la precisión balanceada\n",
    "balanced_accuracy_logistic = balanced_accuracy_score(y_test, predictions_logistic)\n",
    "\n",
    "print(f\"Recall: {recall_logistic}\")\n",
    "print(f\"Balanced Accuracy: {balanced_accuracy_logistic}\")\n"
   ]
  },
  {
   "cell_type": "markdown",
   "metadata": {},
   "source": [
    "### Evalúe los dos modelos con las métricas definidas al principio. Discuta las fortalezas y debilidades de cada enfoque en el contexto específico de este problema comparándolos con el modelo de base."
   ]
  },
  {
   "cell_type": "markdown",
   "metadata": {},
   "source": [
    "### Evaluación de Modelos: KNN vs. Regresión Logística vs. Modelo Base\n",
    "\n",
    "#### Resultados\n",
    "\n",
    "- **Modelo Base:**\n",
    "  - Recall: 0.4668\n",
    "  - Balanced Accuracy: 0.6558\n",
    "\n",
    "- **KNN:**\n",
    "  - Recall: 0.4228\n",
    "  - Balanced Accuracy: 0.6459\n",
    "\n",
    "- **Regresión Logística:**\n",
    "  - Recall: 0.5048\n",
    "  - Balanced Accuracy: 0.7246\n",
    "\n",
    "### Análisis y Comparación\n",
    "\n",
    "#### **Recall:**\n",
    "\n",
    "- **Modelo Base (0.4668):** El modelo base, que predice que va a llover mañana si hoy llueve, tiene un **recall** moderado. Captura aproximadamente el 46.68% de los días lluviosos correctamente. Aunque es un modelo simple, proporciona un punto de referencia razonable.\n",
    "\n",
    "- **KNN (0.4228):** El modelo KNN tiene un recall inferior al del modelo base. Esto sugiere que KNN es menos efectivo para identificar los días lluviosos en comparación con el modelo base, lo que es una debilidad significativa para este tipo de problema, donde detectar lluvia es crucial.\n",
    "\n",
    "- **Regresión Logística (0.5048):** La regresión logística tiene el mejor recall entre los tres modelos, superando tanto a KNN como al modelo base. Esto indica que la regresión logística es más efectiva para detectar días lluviosos, lo que es una ventaja en escenarios donde es crucial minimizar los falsos negativos.\n",
    "\n",
    "#### **Balanced Accuracy:**\n",
    "\n",
    "- **Modelo Base (0.6558):** El modelo base tiene una balanced accuracy decente, lo que significa que su rendimiento general, teniendo en cuenta ambas clases (lluvia y no lluvia), es bastante equilibrado, aunque no sobresaliente.\n",
    "\n",
    "- **KNN (0.6459):** El rendimiento global de KNN, medido por la balanced accuracy, es ligeramente inferior al del modelo base. Esto sugiere que, en términos generales, KNN no supera la simplicidad del modelo base, lo que podría limitar su utilidad en este contexto.\n",
    "\n",
    "- **Regresión Logística (0.7246):** La regresión logística muestra una balanced accuracy superior, lo que indica un rendimiento global significativamente mejor que el modelo base y KNN. Esto sugiere que la regresión logística no solo identifica mejor los días lluviosos, sino que también maneja bien ambas clases.\n",
    "\n",
    "### Fortalezas y Debilidades\n",
    "\n",
    "#### **Modelo Base:**\n",
    "- **Fortalezas:**\n",
    "  - **Simplicidad:** Es extremadamente simple y fácil de interpretar.\n",
    "  - **Desempeño Razonable:** Tiene un desempeño razonable en términos de recall y balanced accuracy, lo que lo convierte en un buen punto de referencia.\n",
    "\n",
    "- **Debilidades:**\n",
    "  - **Limitación en Capturar Complejidad:** No tiene la capacidad de capturar patrones complejos en los datos, lo que limita su efectividad cuando las condiciones climáticas no siguen un patrón simple.\n",
    "\n",
    "#### **KNN:**\n",
    "- **Fortalezas:**\n",
    "  - **Flexibilidad:** Es un modelo no paramétrico que puede captar relaciones no lineales en los datos.\n",
    "  \n",
    "- **Debilidades:**\n",
    "  - **Desempeño Inferior:** Tiene un recall y una balanced accuracy inferiores al modelo base, lo que sugiere que, en este caso, KNN no aporta mejoras significativas.\n",
    "  - **Sensibilidad a la Escala:** Puede ser sensible a la escala de las características, lo que podría requerir un preprocesamiento cuidadoso.\n",
    "\n",
    "#### **Regresión Logística:**\n",
    "- **Fortalezas:**\n",
    "  - **Desempeño Superior:** Supera tanto a KNN como al modelo base en recall y balanced accuracy, lo que sugiere que maneja mejor la tarea de clasificación.\n",
    "  - **Interpretable:** Es fácil de interpretar y proporciona probabilidades, lo que es útil para entender la incertidumbre en las predicciones.\n",
    "\n",
    "- **Debilidades:**\n",
    "  - **Asunción de Linealidad:** Asume una relación lineal entre las características y la variable objetivo, lo que puede no ser ideal en todos los escenarios.\n",
    "\n",
    "### Conclusión\n",
    "\n",
    "En comparación con el modelo base, **KNN** no logra mejorar el desempeño, lo que sugiere que, para este problema, KNN no es la mejor opción. **La regresión logística**, en cambio, supera tanto a KNN como al modelo base en términos de recall y balanced accuracy, lo que la convierte en la mejor opción entre los tres modelos para predecir si lloverá mañana. \n",
    "\n",
    "Esto sugiere que, aunque un modelo base simple puede ser un punto de partida sólido, la regresión logística ofrece mejoras significativas en la capacidad de predicción y equilibrio entre las clases, lo que es crucial para aplicaciones climáticas donde la precisión en la predicción de lluvia es esencial."
   ]
  },
  {
   "cell_type": "code",
   "execution_count": 151,
   "metadata": {},
   "outputs": [],
   "source": [
    "train_data = pd.concat([X_train, y_train], axis=1)\n",
    "test_data = pd.concat([X_test, y_test], axis=1)\n",
    "\n",
    "# Guardar en archivos CSV\n",
    "train_data.to_csv('./dataset/train_data.csv', index=False)\n",
    "test_data.to_csv('./dataset/test_data.csv', index=False)\n",
    "\n",
    "with open('./models/model_logistic.pkl', 'wb') as file:\n",
    "    pickle.dump(model_logistic, file)"
   ]
  }
 ],
 "metadata": {
  "kernelspec": {
   "display_name": "Python 3.9.6 ('.venv': venv)",
   "language": "python",
   "name": "python3"
  },
  "language_info": {
   "codemirror_mode": {
    "name": "ipython",
    "version": 3
   },
   "file_extension": ".py",
   "mimetype": "text/x-python",
   "name": "python",
   "nbconvert_exporter": "python",
   "pygments_lexer": "ipython3",
   "version": "3.12.0"
  },
  "vscode": {
   "interpreter": {
    "hash": "078e1cd62a2babc4f27a2bc80b69ee0b0328010a90eb7d35630581b7f8553aef"
   }
  }
 },
 "nbformat": 4,
 "nbformat_minor": 2
}
